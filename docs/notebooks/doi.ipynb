{
 "cells": [
  {
   "cell_type": "markdown",
   "id": "121752b4-5e3f-495a-b76f-8fab3d44b3b5",
   "metadata": {},
   "source": [
    "Fetch information about a specific publication identified by its DOI, and handle API errors."
   ]
  },
  {
   "cell_type": "markdown",
   "id": "1b10fe02-8c43-4138-bdb5-efb99a217e30",
   "metadata": {},
   "source": [
    "[Download Notebook](https://github.com/researchgraph/augment-api-beta/blob/main/docs/notebooks/doi.ipynb)"
   ]
  },
  {
   "cell_type": "code",
   "execution_count": 6,
   "id": "c9aff948-62d9-43a5-a7b7-c0da8541c791",
   "metadata": {},
   "outputs": [],
   "source": [
    "import sys\n",
    "sys.path.append('../')\n",
    "\n",
    "# !{sys.executable} -m pip install ipympl\n",
    "\n",
    "import numpy as np\n",
    "import matplotlib.pyplot as plt\n",
    "%matplotlib widget\n",
    "\n",
    "import ast\n",
    "import altair as alt\n",
    "import networkx as nx\n",
    "import nx_altair as nxa\n",
    "import pandas as pd\n",
    "from datetime import datetime, date\n",
    "import requests\n",
    "import json\n",
    "\n",
    "import os\n",
    "from os.path import join, dirname\n",
    "from dotenv import load_dotenv\n",
    "load_dotenv();"
   ]
  },
  {
   "cell_type": "markdown",
   "id": "2a87ac89-8cc1-43c0-ae44-a2218daf7a8f",
   "metadata": {},
   "source": [
    "### DOI not found"
   ]
  },
  {
   "cell_type": "code",
   "execution_count": 7,
   "id": "934b30e7-c989-4ff5-af8e-eba3102498e2",
   "metadata": {},
   "outputs": [
    {
     "name": "stdout",
     "output_type": "stream",
     "text": [
      "Augment API query complete  400\n",
      "FAILED: Invalid DOI 10.1038/XXXX\n"
     ]
    }
   ],
   "source": [
    "# DOI does not exist\n",
    "API_KEY = os.environ.get(\"API_KEY\")\n",
    "DOI = \"10.1038/XXXX\"\n",
    "\n",
    "url = f'https://f130.azure-api.net/v1/doi/{DOI}?subscription-key={API_KEY}'\n",
    "r = requests.get(url)\n",
    "\n",
    "# print a short confirmation on completion\n",
    "print('Augment API query complete ', r.status_code)\n",
    "\n",
    "if r.status_code == 400:\n",
    "    print(r.json()[\"message\"])"
   ]
  },
  {
   "cell_type": "markdown",
   "id": "ae488632-efbb-4ddd-9cab-2d088f8d00d3",
   "metadata": {},
   "source": [
    "### Missing API_KEY"
   ]
  },
  {
   "cell_type": "code",
   "execution_count": 8,
   "id": "e8ae51de-7b7e-4a1d-a671-1eb854299768",
   "metadata": {},
   "outputs": [
    {
     "name": "stdout",
     "output_type": "stream",
     "text": [
      "Augment API query complete  401\n",
      "Authentication error.\n"
     ]
    }
   ],
   "source": [
    "# Missing API_KEY\n",
    "API_KEY = ''\n",
    "DOI = \"10.1038/sdata.2018.99\"\n",
    "\n",
    "url = f'https://f130.azure-api.net/v1/doi/{DOI}?subscription-key={API_KEY}'\n",
    "r = requests.get(url)\n",
    "\n",
    "# print a short confirmation on completion\n",
    "print('Augment API query complete ', r.status_code)\n",
    "\n",
    "if r.status_code == 401:\n",
    "    print(f'Authentication error.')"
   ]
  },
  {
   "cell_type": "markdown",
   "id": "1a2f4380-b248-4bc1-b1a7-86ab7480a3b9",
   "metadata": {},
   "source": [
    "### DOI does exist"
   ]
  },
  {
   "cell_type": "code",
   "execution_count": 9,
   "id": "968a1d7c-c696-4e3d-90d9-d77b9d0f2a3d",
   "metadata": {},
   "outputs": [
    {
     "name": "stdout",
     "output_type": "stream",
     "text": [
      "Augment API query complete  200\n",
      "\n",
      "DOI: 10.1038/sdata.2018.99\n",
      "Authors: Amir Aryani, Marta Poblet, Kathryn Unsworth, Jingbo Wang, Ben Evans, Anusuriya Devaraju, Brigitte Hausstein, Claus-Peter Klas, Benjamin Zapilko, Samuele Kaplun\n",
      "Title: A Research Graph dataset for connecting research data repositories using RD-Switchboard\n",
      "Publication year: 2018\n",
      "\n",
      "The publication \"A Research Graph dataset for connecting research data repositories using RD-Switchboard\" is connected to {'datasets': 0, 'grants': 3, 'organisations': 124, 'publications': 163, 'researchers': 85}.\n"
     ]
    }
   ],
   "source": [
    "# DOI does exist\n",
    "API_KEY = os.environ.get(\"API_KEY\")\n",
    "DOI = \"10.1038/sdata.2018.99\"\n",
    "\n",
    "url = f'https://f130.azure-api.net/v1/doi/{DOI}?subscription-key={API_KEY}'\n",
    "r = requests.get(url)\n",
    "\n",
    "# print a short confirmation on completion\n",
    "print('Augment API query complete ', r.status_code)\n",
    "\n",
    "if r.status_code == 200 and r.json()[0][\"nodes\"][\"publications\"]:    \n",
    "    publications = r.json()[0][\"nodes\"][\"publications\"]\n",
    "    \n",
    "    publication = None\n",
    "    for i in range(len(publications)):\n",
    "        if publications[i][\"doi\"] == DOI:\n",
    "            publication = publications[i]\n",
    "\n",
    "print()\n",
    "print(f'DOI: {publication[\"doi\"]}')\n",
    "print(f'Authors: {publication[\"authors_list\"]}')\n",
    "print(f'Title: {publication[\"title\"]}')\n",
    "print(f'Publication year: {publication[\"publication_year\"]}')\n",
    "print()\n",
    "print(f'The publication \"{publication[\"title\"]}\" is connected to {r.json()[0][\"stats\"]}.')"
   ]
  }
 ],
 "metadata": {
  "kernelspec": {
   "display_name": "Python 3",
   "language": "python",
   "name": "python3"
  },
  "language_info": {
   "codemirror_mode": {
    "name": "ipython",
    "version": 3
   },
   "file_extension": ".py",
   "mimetype": "text/x-python",
   "name": "python",
   "nbconvert_exporter": "python",
   "pygments_lexer": "ipython3",
   "version": "3.9.7"
  }
 },
 "nbformat": 4,
 "nbformat_minor": 5
}
