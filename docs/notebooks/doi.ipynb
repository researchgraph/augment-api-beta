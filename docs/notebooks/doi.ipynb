{
 "cells": [
  {
   "cell_type": "markdown",
   "id": "121752b4-5e3f-495a-b76f-8fab3d44b3b5",
   "metadata": {},
   "source": [
    "# Query Data by DOI\n",
    "\n",
    "This notebook shows how to fetch information about a specific publication identified by its DOI, and handle API errors."
   ]
  },
  {
   "cell_type": "markdown",
   "id": "1b10fe02-8c43-4138-bdb5-efb99a217e30",
   "metadata": {},
   "source": [
    "[Download Notebook](https://github.com/researchgraph/augment-api-beta/blob/main/docs/notebooks/doi.ipynb)"
   ]
  },
  {
   "cell_type": "markdown",
   "id": "55638759",
   "metadata": {},
   "source": [
    "Related Notebooks:  \n",
    "- [ORCID Notebook](./orcid.ipynb)   \n",
    "Query for researchers' data by passing an ORCID to the Augment API. Visualise co-author relationships in a graph. \n",
    "- [Publications Notebook](./publications.ipynb)   \n",
    "Extract a publications list for a researcher in Bibtex Format. Visualise publication counts with a bar plot and generate a keyword word-cloud.  \n",
    "- [Affiliations Notebook](./affiliations.ipynb)  \n",
    "Query researchers and affiliations by passing an ORCID to the API. Extract the geolocation data and map affiliations data on a world map. Plot researcher-organisation relationships in a graph.\n",
    "\n"
   ]
  },
  {
   "cell_type": "code",
   "execution_count": null,
   "id": "c9aff948-62d9-43a5-a7b7-c0da8541c791",
   "metadata": {},
   "outputs": [],
   "source": [
    "import sys\n",
    "sys.path.append('../')\n",
    "\n",
    "# Packages to use API\n",
    "import requests\n",
    "import json\n",
    "\n",
    "# packages to read API_KEY\n",
    "import os\n",
    "from os.path import join, dirname\n",
    "from dotenv import load_dotenv\n",
    "load_dotenv();"
   ]
  },
  {
   "cell_type": "markdown",
   "id": "2a87ac89-8cc1-43c0-ae44-a2218daf7a8f",
   "metadata": {},
   "source": [
    "## API Errors  \n",
    "When using the API, we load API_KEY and DOI you want to search into variables and add them in the url string. Later the python request package will pass those values to the API and get the data you want. This section shows the 2 types of common errors you might get when using augment API. Either the DOI passed is invalid or the API_KEY is not load successfully from you environment file.\n",
    "### DOI Not Found  \n",
    "Here we assign an invalid value to the DOI variable. When error occurs, the request.get( ) will be an object with the status code indicating error type and an error message."
   ]
  },
  {
   "cell_type": "code",
   "execution_count": null,
   "id": "934b30e7-c989-4ff5-af8e-eba3102498e2",
   "metadata": {},
   "outputs": [],
   "source": [
    "# DOI does not exist\n",
    "API_KEY = os.environ.get(\"API_KEY\")\n",
    "DOI = \"10.1038/XXXX\"\n",
    "\n",
    "url = f'https://augmentapi.researchgraph.com/v1/doi/{DOI}?subscription-key={API_KEY}'\n",
    "r = requests.get(url)\n",
    "\n",
    "# print a short confirmation on completion\n",
    "print('Augment API query complete ', r.status_code)\n",
    "\n",
    "if r.status_code == 400:\n",
    "    print(r.json()[0][\"error\"])"
   ]
  },
  {
   "cell_type": "markdown",
   "id": "ae488632-efbb-4ddd-9cab-2d088f8d00d3",
   "metadata": {},
   "source": [
    "### Missing API_KEY  \n",
    "You will receive an authentication error if the API KEY is invalid."
   ]
  },
  {
   "cell_type": "code",
   "execution_count": null,
   "id": "e8ae51de-7b7e-4a1d-a671-1eb854299768",
   "metadata": {},
   "outputs": [],
   "source": [
    "# Missing API_KEY\n",
    "API_KEY = ''\n",
    "DOI = \"10.1038/sdata.2018.99\"\n",
    "\n",
    "url = f'https://augmentapi.researchgraph.com/v1/doi/{DOI}?subscription-key={API_KEY}'\n",
    "r = requests.get(url)\n",
    "\n",
    "# print a short confirmation on completion\n",
    "print('Augment API query complete ', r.status_code)\n",
    "\n",
    "if r.status_code == 401:\n",
    "    print(f'Authentication error.',r.json()['message'])"
   ]
  },
  {
   "cell_type": "markdown",
   "id": "1a2f4380-b248-4bc1-b1a7-86ab7480a3b9",
   "metadata": {},
   "source": [
    "## Extract Publications by DOI\n",
    "For valid DOI records retrieved, it is a nested dictionary structure with all data that is connected to the DOI requested. First level has 3 keys as shown in the block below."
   ]
  },
  {
   "cell_type": "code",
   "execution_count": null,
   "id": "968a1d7c-c696-4e3d-90d9-d77b9d0f2a3d",
   "metadata": {},
   "outputs": [],
   "source": [
    "# DOI does exist\n",
    "API_KEY = os.environ.get(\"API_KEY\")\n",
    "DOI = \"10.1038/sdata.2018.99\"\n",
    "\n",
    "url = f'https://augmentapi.researchgraph.com/v1/doi/{DOI}?subscription-key={API_KEY}'\n",
    "r = requests.get(url)\n",
    "\n",
    "# print a short confirmation on completion\n",
    "print('Augment API query complete ', r.status_code)\n",
    "# Shows data \n",
    "print('The data returned has below fields: ',r.json()[0].keys())\n"
   ]
  },
  {
   "cell_type": "markdown",
   "id": "18bbf749",
   "metadata": {},
   "source": [
    "In 'nodes', data is stored in 5 labels from the ResearchGraph schema:"
   ]
  },
  {
   "cell_type": "code",
   "execution_count": null,
   "id": "72c4e050",
   "metadata": {},
   "outputs": [],
   "source": [
    "r.json()[0][\"nodes\"].keys()"
   ]
  },
  {
   "cell_type": "markdown",
   "id": "79047bd9",
   "metadata": {},
   "source": [
    "Each label above is stored as a list of dictionaries. To extract the publication we need, iterate through the list and check for the DOI.  \n",
    "  \n",
    "    \n",
    "      \n",
    "        \n",
    "        "
   ]
  },
  {
   "cell_type": "code",
   "execution_count": null,
   "id": "c72c29b8-8d21-4211-af8e-a38048373800",
   "metadata": {},
   "outputs": [],
   "source": [
    "if r.status_code == 200 and r.json()[0][\"nodes\"][\"publications\"]:    \n",
    "    publications = r.json()[0][\"nodes\"][\"publications\"]\n",
    "    \n",
    "    publication = None\n",
    "    for i in range(len(publications)):\n",
    "        if publications[i][\"doi\"] == DOI:\n",
    "            publication = publications[i]\n",
    "\n",
    "print()\n",
    "print(f'DOI: {publication[\"doi\"]}')\n",
    "print(f'Authors: {publication[\"authors_list\"]}')\n",
    "print(f'Title: {publication[\"title\"]}')\n",
    "print(f'Publication year: {publication[\"publication_year\"]}')\n",
    "print()\n",
    "print(f'The publication \"{publication[\"title\"]}\" is connected to {r.json()[0][\"stats\"]}.')"
   ]
  }
 ],
 "metadata": {
  "kernelspec": {
   "display_name": "Python 3 (ipykernel)",
   "language": "python",
   "name": "python3"
  },
  "language_info": {
   "codemirror_mode": {
    "name": "ipython",
    "version": 3
   },
   "file_extension": ".py",
   "mimetype": "text/x-python",
   "name": "python",
   "nbconvert_exporter": "python",
   "pygments_lexer": "ipython3",
   "version": "3.7.4"
  }
 },
 "nbformat": 4,
 "nbformat_minor": 5
}
