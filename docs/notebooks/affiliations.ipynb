{
 "cells": [
  {
   "cell_type": "markdown",
   "id": "121752b4-5e3f-495a-b76f-8fab3d44b3b5",
   "metadata": {},
   "source": [
    "# Query Researchers and Affiliations by ORCID\n",
    "This notebook shows how to fetch an researcher and co-authors by ORCID frist. Then it extracts affiliation data to map the locations on a world map. Finally it shows researcher-affiliation relationships in a graph."
   ]
  },
  {
   "cell_type": "markdown",
   "id": "0ed44088-e793-4148-acaa-d179df00be66",
   "metadata": {},
   "source": [
    "[Download Notebook](https://github.com/researchgraph/augment-api-beta/blob/main/docs/notebooks/affiliations.ipynb)"
   ]
  },
  {
   "cell_type": "markdown",
   "id": "cba42eb7",
   "metadata": {},
   "source": [
    "Related Notebooks:  \n",
    "- [ORCID Notebook](./orcid.ipynb)   \n",
    "Query for researchers' data by passing an ORCID to the Augment API. Visualise co-author relationships in a graph. \n",
    "- [Publications Notebook](./publications.ipynb)   \n",
    "Extract a publications list for a researcher in Bibtex Format. Visualise publication counts with a bar plot and generate a keyword word-cloud.  \n",
    "- [DOI Notebook](./doi.ipynb)  \n",
    "Query publications data by passing a DOI to the API. \n",
    "\n",
    "\n"
   ]
  },
  {
   "cell_type": "code",
   "execution_count": null,
   "id": "c9aff948-62d9-43a5-a7b7-c0da8541c791",
   "metadata": {},
   "outputs": [],
   "source": [
    "import sys\n",
    "sys.path.append('../')\n",
    "\n",
    "# Package for mapping data on world map\n",
    "# !{sys.executable} -m pip install folium\n",
    "import folium\n",
    "\n",
    "# Packages for plotting charts, graphs\n",
    "import ast\n",
    "import altair as alt\n",
    "import networkx as nx\n",
    "import nx_altair as nxa\n",
    "import numpy as np\n",
    "import matplotlib.pyplot as plt\n",
    "%matplotlib inline\n",
    "\n",
    "# Packages for data manipulation\n",
    "import pandas as pd\n",
    "from datetime import datetime, date\n",
    "\n",
    "# Build-in packages to use API\n",
    "import requests\n",
    "import json\n",
    "\n",
    "# packages to read API_KEY\n",
    "import os\n",
    "from os.path import join, dirname\n",
    "from dotenv import load_dotenv\n",
    "load_dotenv();"
   ]
  },
  {
   "cell_type": "markdown",
   "id": "fa024f78-572d-49ba-8317-ac4aefb5f717",
   "metadata": {},
   "source": [
    "## API Errors  \n",
    "When using the API, we load API_KEY and ORCID ID you want to search into variables and add them in the url string. Later the python request package will pass those values to the API and get the data you want. This section shows the 2 types of common errors you might get when using augment API. Either the ORCID id passed is invalid or the API_KEY is not load successfully from you environment file.\n",
    "### ORCID ID Not Found  \n",
    "Here we assign an invalid value to the ORCID variable. When error occurs, the request.get( ) will be an object with the status code indicating error type and an error message."
   ]
  },
  {
   "cell_type": "code",
   "execution_count": null,
   "id": "934b30e7-c989-4ff5-af8e-eba3102498e2",
   "metadata": {},
   "outputs": [],
   "source": [
    "# ORCID ID not found\n",
    "API_KEY = os.environ.get(\"API_KEY\")\n",
    "ORCID = \"0000-0003-XXXX-XXXX\"\n",
    "\n",
    "url = f'https://augmentapi.researchgraph.com/v1/orcid/{ORCID}?subscription-key={API_KEY}'\n",
    "r = requests.get(url)\n",
    "\n",
    "# print a short confirmation on completion\n",
    "print('Augment API query complete ', r.status_code)\n",
    "\n",
    "if r.status_code == 400:\n",
    "    print(r.json()[0][\"error\"])"
   ]
  },
  {
   "cell_type": "markdown",
   "id": "cf03a629-01aa-4f1d-9a54-68bf763348a7",
   "metadata": {},
   "source": [
    "### Missing API_KEY  \n",
    "You will receive an authentication error if the API KEY is invalid."
   ]
  },
  {
   "cell_type": "code",
   "execution_count": null,
   "id": "e8ae51de-7b7e-4a1d-a671-1eb854299768",
   "metadata": {},
   "outputs": [],
   "source": [
    "# Missing API_KEY\n",
    "API_KEY = ''\n",
    "ORCID = \"0000-0002-0715-6126\"\n",
    "\n",
    "url = f'https://augmentapi.researchgraph.com/v1/orcid/{ORCID}?subscription-key={API_KEY}'\n",
    "r = requests.get(url)\n",
    "\n",
    "# print a short confirmation on completion\n",
    "print('Augment API query complete ', r.status_code)\n",
    "\n",
    "if r.status_code == 401:\n",
    "    print(f'Authentication error.',r.json()['message'])"
   ]
  },
  {
   "cell_type": "markdown",
   "id": "313b28aa-68dc-4fd6-a314-2c3e0823c52c",
   "metadata": {},
   "source": [
    "## Data Extraction for Valid ORCID ID  \n",
    "For valid ORCID records retrieved, it is a nested dictionary structure with all data that is connected to the ORCID requested. First level has 3 keys as shown in the block below."
   ]
  },
  {
   "cell_type": "code",
   "execution_count": null,
   "id": "968a1d7c-c696-4e3d-90d9-d77b9d0f2a3d",
   "metadata": {},
   "outputs": [],
   "source": [
    "# ORCID ID does exist\n",
    "API_KEY = os.environ.get(\"API_KEY\")\n",
    "ORCID = \"0000-0002-0068-716X\"\n",
    "\n",
    "url = f'https://augmentapi.researchgraph.com/v1/orcid/{ORCID}?subscription-key={API_KEY}'\n",
    "r = requests.get(url)\n",
    "\n",
    "# print a short confirmation on completion\n",
    "print('Augment API query complete ', r.status_code)\n",
    "# Shows data \n",
    "print('The data returned has below fields: ',r.json()[0].keys())"
   ]
  },
  {
   "cell_type": "markdown",
   "id": "994d62b7",
   "metadata": {},
   "source": [
    "In 'nodes', data is stored in 5 labels from the ResearchGraph schema:"
   ]
  },
  {
   "cell_type": "code",
   "execution_count": null,
   "id": "79addf08",
   "metadata": {},
   "outputs": [],
   "source": [
    "r.json()[0][\"nodes\"].keys()"
   ]
  },
  {
   "cell_type": "markdown",
   "id": "d7cc5380",
   "metadata": {},
   "source": [
    "Each data above is stored as a list of dictionaries. To extract the researcher we need, iterate through the list and check for the ORCID."
   ]
  },
  {
   "cell_type": "code",
   "execution_count": null,
   "id": "bde93657",
   "metadata": {},
   "outputs": [],
   "source": [
    "if r.status_code == 200 and r.json()[0][\"nodes\"][\"researchers\"]:    \n",
    "    researchers = r.json()[0][\"nodes\"][\"researchers\"]\n",
    "    \n",
    "    researcher = None\n",
    "    for i in range(len(researchers)):\n",
    "        if researchers[i][\"orcid\"] == ORCID:\n",
    "            researcher = researchers[i]\n",
    "\n",
    "print()\n",
    "print(f'ORCID: {researcher[\"orcid\"]}')\n",
    "print(f'First name: {researcher[\"first_name\"]}')\n",
    "print(f'Last name: {researcher[\"last_name\"]}')\n",
    "print()\n",
    "print(f'The researcher {researcher[\"full_name\"]} is connected to {r.json()[0][\"stats\"]}.')"
   ]
  },
  {
   "cell_type": "markdown",
   "id": "a79228e4-272a-43bd-b6e3-941b35012f9a",
   "metadata": {},
   "source": [
    "### List of co-authors\n",
    "The researchers in the list has the ORCID we queried and other researchers connected to it. Note this only includes researchers who has an ORCID."
   ]
  },
  {
   "cell_type": "code",
   "execution_count": null,
   "id": "85add633-3a43-451a-ad67-31264b599154",
   "metadata": {},
   "outputs": [],
   "source": [
    "rf = pd.DataFrame(r.json()[0][\"nodes\"][\"researchers\"], columns=['first_name', 'last_name', 'full_name', 'orcid'])\n",
    "dfStyler = rf.style.set_properties(**{'text-align': 'left'})\n",
    "dfStyler.set_table_styles([dict(selector='th', props=[('text-align', 'left')])])"
   ]
  },
  {
   "cell_type": "markdown",
   "id": "85d36195-0c03-4bf4-a4d6-181d8744d1d8",
   "metadata": {},
   "source": [
    "### List of co-author affiliations  \n",
    "Researcher affiliations can be extracted from organisation nodes, and an example of the record is like this:"
   ]
  },
  {
   "cell_type": "code",
   "execution_count": null,
   "id": "3f522bce",
   "metadata": {},
   "outputs": [],
   "source": [
    "r.json()[0][\"nodes\"][\"organisations\"][0]"
   ]
  },
  {
   "cell_type": "markdown",
   "id": "6c97842d",
   "metadata": {},
   "source": [
    "Note that the key includs a ResearchGraph prefix. To extract id from WikiData only, we need to format the string using force_wiki_data( )."
   ]
  },
  {
   "cell_type": "code",
   "execution_count": null,
   "id": "6d8db0c3",
   "metadata": {},
   "outputs": [],
   "source": [
    "# Strip wikidata ID from key\n",
    "def force_wikidata(n):\n",
    "    n['key'] = n['key'].split('/')[-1]\n",
    "    return n\n",
    "\n",
    "json = map(force_wikidata, r.json()[0][\"nodes\"][\"organisations\"])\n",
    "of = pd.DataFrame(json, columns=['name', 'country', 'key', 'ror', 'latitude', 'longitude'])\n",
    "of = of.rename(columns={'key': 'wikidata'})\n",
    "dfStyler = of.style.set_properties(**{'text-align': 'left'})\n",
    "dfStyler.set_table_styles([dict(selector='th', props=[('text-align', 'left')])])"
   ]
  },
  {
   "cell_type": "markdown",
   "id": "bc41d191",
   "metadata": {},
   "source": [
    "We can choose to use the langitude and latitide data to visualise the affiliation on a world map. Note that the data points can't be empty when mapping."
   ]
  },
  {
   "cell_type": "code",
   "execution_count": null,
   "id": "d0a7aec7-6466-48c2-afc6-4039f531fb5f",
   "metadata": {},
   "outputs": [],
   "source": [
    "# map affiliations on a world map, center around home institution (Curtin University, for now done manually)\n",
    "m = folium.Map(tiles='cartodbpositron', location=[of.loc[[4]].latitude, of.loc[[4]].longitude], zoom_start=3)\n",
    "\n",
    "#Adding markers to the map\n",
    "for index, row in of.iterrows():\n",
    "    if type(row['latitude']) is str:\n",
    "        if type(row['longitude']) is str:\n",
    "            folium.CircleMarker(location=[row['latitude'], row['longitude']],popup=row['name'], fill=True,\n",
    "            color=\"#8248C6\", radius=2).add_to(m)\n",
    "m"
   ]
  },
  {
   "cell_type": "markdown",
   "id": "73ca9bbd",
   "metadata": {},
   "source": [
    "We can also visualise the researcher-affiliation relationships as a graph."
   ]
  },
  {
   "cell_type": "code",
   "execution_count": null,
   "id": "ccfcb066-495d-4015-81b8-3066bf743bb0",
   "metadata": {},
   "outputs": [],
   "source": [
    "# Generate a graph from the co-authors and their affiliations\n",
    "G = nx.Graph()\n",
    "\n",
    "# add researchers as graph nodes\n",
    "for index, row in rf.iterrows():\n",
    "    G.add_node(row['orcid'], name=row['full_name'], node_color='#54C48C', type='researcher')\n",
    "# add organisations as graph nodes\n",
    "for index, row in of.iterrows():\n",
    "    G.add_node(row['wikidata'], name=row['name'], node_color='#8248C6', type='organisation')\n",
    "\n",
    "# Convert from and to for researcher relationships into ORCID IDs (to map the node labels)\n",
    "def force_pid(n):\n",
    "    n['from'] = n['from'].split('/')[-1]\n",
    "    n['to'] = n['to'].split('/')[-1]\n",
    "    return n\n",
    "\n",
    "# get co-author relationship with requested researcher\n",
    "json = map(force_pid, r.json()[0]['relationships']['researcher-researcher'])\n",
    "ef = pd.DataFrame(json, columns=['from', 'to'])\n",
    "\n",
    "# get affiliation relationship for researchers\n",
    "json = map(force_pid, r.json()[0]['relationships']['researcher-organisation'])\n",
    "eo = pd.DataFrame(json, columns=['from', 'to'])\n",
    "\n",
    "# add relationships as graph edges\n",
    "G.add_edges_from(ef.to_numpy())\n",
    "G.add_edges_from(eo.to_numpy())\n",
    "    \n",
    "# Compute positions for viz.\n",
    "pos = nx.spring_layout(G)\n",
    "\n",
    "options = {\n",
    "    \"font_size\": 12,\n",
    "    \"node_size\": 50,\n",
    "    \"edge_color\": \"lightgray\",\n",
    "    \"linewidths\": 0.1,\n",
    "    \"width\": 1\n",
    "}\n",
    "\n",
    "# Show information about the graph\n",
    "print(nx.info(G))\n",
    "print(\"Network density:\", nx.density(G))\n",
    "\n",
    "# export graph to a gephi file\n",
    "nx.write_gexf(G, \"affiliationss.gexf\")\n",
    "\n",
    "# Draw the graph using altair\n",
    "viz = nxa.draw_networkx(G, pos=pos, node_tooltip='name', node_color='node_color', **options).properties(width=800, height=800)\n",
    "viz.interactive()"
   ]
  },
  {
   "cell_type": "markdown",
   "id": "4e51e176-8ade-4e2d-93e5-ce63d93b285d",
   "metadata": {},
   "source": [
    "[Download Gephi file](https://github.com/researchgraph/augment-api-beta/blob/main/docs/notebooks/affiliationss.gexf)"
   ]
  }
 ],
 "metadata": {
  "kernelspec": {
   "display_name": "Python 3 (ipykernel)",
   "language": "python",
   "name": "python3"
  },
  "language_info": {
   "codemirror_mode": {
    "name": "ipython",
    "version": 3
   },
   "file_extension": ".py",
   "mimetype": "text/x-python",
   "name": "python",
   "nbconvert_exporter": "python",
   "pygments_lexer": "ipython3",
   "version": "3.7.4"
  }
 },
 "nbformat": 4,
 "nbformat_minor": 5
}
