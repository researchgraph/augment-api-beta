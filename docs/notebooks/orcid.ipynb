{
 "cells": [
  {
   "cell_type": "markdown",
   "id": "121752b4-5e3f-495a-b76f-8fab3d44b3b5",
   "metadata": {},
   "source": [
    "Fetch information about a specific person identified by his/her ORCID ID, and handle API errors."
   ]
  },
  {
   "cell_type": "markdown",
   "id": "bf3f02b3-a71b-4e37-8d70-ac7c1906844c",
   "metadata": {},
   "source": [
    "[Download Notebook](https://github.com/researchgraph/augment-api-beta/blob/main/docs/notebooks/orcid.ipynb)"
   ]
  },
  {
   "cell_type": "code",
   "execution_count": null,
   "id": "585706d4-6da5-47cf-bcba-d1b4f8238718",
   "metadata": {},
   "outputs": [],
   "source": [
    "import sys\n",
    "sys.path.append('../')\n",
    "\n",
    "import numpy as np\n",
    "import matplotlib.pyplot as plt\n",
    "%matplotlib inline\n",
    "\n",
    "import ast\n",
    "import altair as alt\n",
    "import networkx as nx\n",
    "import nx_altair as nxa\n",
    "from wordcloud import WordCloud, STOPWORDS \n",
    "import pandas as pd\n",
    "from datetime import datetime, date\n",
    "import requests\n",
    "import json\n",
    "\n",
    "import os\n",
    "from os.path import join, dirname\n",
    "from dotenv import load_dotenv\n",
    "load_dotenv();"
   ]
  },
  {
   "cell_type": "markdown",
   "id": "fa024f78-572d-49ba-8317-ac4aefb5f717",
   "metadata": {},
   "source": [
    "### ORCID ID not found"
   ]
  },
  {
   "cell_type": "code",
   "execution_count": null,
   "id": "934b30e7-c989-4ff5-af8e-eba3102498e2",
   "metadata": {},
   "outputs": [],
   "source": [
    "# ORCID ID not found\n",
    "API_KEY = os.environ.get(\"API_KEY\")\n",
    "ORCID = \"0000-0003-XXXX-XXXX\"\n",
    "\n",
    "url = f'https://api.researchgraph.ai/v1/orcid/{ORCID}?subscription-key={API_KEY}'\n",
    "r = requests.get(url)\n",
    "\n",
    "# print a short confirmation on completion\n",
    "print('Augment API query complete ', r.status_code)\n",
    "\n",
    "if r.status_code == 400:\n",
    "    print(r.json()[\"message\"])"
   ]
  },
  {
   "cell_type": "markdown",
   "id": "cf03a629-01aa-4f1d-9a54-68bf763348a7",
   "metadata": {},
   "source": [
    "### Missing API_KEY"
   ]
  },
  {
   "cell_type": "code",
   "execution_count": null,
   "id": "e8ae51de-7b7e-4a1d-a671-1eb854299768",
   "metadata": {},
   "outputs": [],
   "source": [
    "# Missing API_KEY\n",
    "API_KEY = ''\n",
    "ORCID = \"0000-0002-0068-716X\"\n",
    "\n",
    "url = f'https://api.researchgraph.ai/v1/orcid/{ORCID}?subscription-key={API_KEY}'\n",
    "r = requests.get(url)\n",
    "\n",
    "# print a short confirmation on completion\n",
    "print('Augment API query complete ', r.status_code)\n",
    "\n",
    "if r.status_code == 401:\n",
    "    print(f'Authentication error.')"
   ]
  },
  {
   "cell_type": "markdown",
   "id": "313b28aa-68dc-4fd6-a314-2c3e0823c52c",
   "metadata": {},
   "source": [
    "### ORCID ID does exist"
   ]
  },
  {
   "cell_type": "code",
   "execution_count": null,
   "id": "968a1d7c-c696-4e3d-90d9-d77b9d0f2a3d",
   "metadata": {},
   "outputs": [],
   "source": [
    "# ORCID ID does exist\n",
    "API_KEY = os.environ.get(\"API_KEY\")\n",
    "ORCID = \"0000-0002-0068-716X\"\n",
    "\n",
    "url = f'https://api.researchgraph.ai/v1/orcid/{ORCID}?subscription-key={API_KEY}'\n",
    "r = requests.get(url)\n",
    "\n",
    "# print a short confirmation on completion\n",
    "print('Augment API query complete ', r.status_code)\n",
    "\n",
    "if r.status_code == 200 and r.json()[0][\"nodes\"][\"researchers\"]:    \n",
    "    researchers = r.json()[0][\"nodes\"][\"researchers\"]\n",
    "    \n",
    "    researcher = None\n",
    "    for i in range(len(researchers)):\n",
    "        if researchers[i][\"orcid\"] == ORCID:\n",
    "            researcher = researchers[i]\n",
    "\n",
    "    print()\n",
    "    print(f'ORCID: {researcher[\"orcid\"]}')\n",
    "    print(f'First name: {researcher[\"first_name\"]}')\n",
    "    print(f'Last name: {researcher[\"last_name\"]}')\n",
    "    print()\n",
    "    print(f'The researcher {researcher[\"full_name\"]} is connected to {r.json()[0][\"stats\"]}.')"
   ]
  },
  {
   "cell_type": "markdown",
   "id": "a79228e4-272a-43bd-b6e3-941b35012f9a",
   "metadata": {},
   "source": [
    "### List of co-authors\n",
    "Only includes co-authors with ORCID IDs."
   ]
  },
  {
   "cell_type": "code",
   "execution_count": null,
   "id": "85add633-3a43-451a-ad67-31264b599154",
   "metadata": {},
   "outputs": [],
   "source": [
    "rf = pd.DataFrame(r.json()[0][\"nodes\"][\"researchers\"], columns=['first_name', 'last_name', 'full_name', 'orcid'])\n",
    "dfStyler = rf.style.set_properties(**{'text-align': 'left'})\n",
    "dfStyler.set_table_styles([dict(selector='th', props=[('text-align', 'left')])])"
   ]
  },
  {
   "cell_type": "code",
   "execution_count": null,
   "id": "ccfcb066-495d-4015-81b8-3066bf743bb0",
   "metadata": {},
   "outputs": [],
   "source": [
    "# Fetch relationships between all co-authors\n",
    "API_KEY = os.environ.get(\"API_KEY\")\n",
    "\n",
    "# Generate a graph from the co-authors\n",
    "G = nx.Graph()\n",
    "\n",
    "# Convert from and to into ORCID IDs (to map the node labels)\n",
    "def force_orcid(n):\n",
    "    n['from'] = n['from'].split('/')[-1]\n",
    "    n['to'] = n['to'].split('/')[-1]\n",
    "    return n\n",
    "\n",
    "for a in rf['orcid']:\n",
    "    url = f'https://api.researchgraph.ai/v1/orcid/{a}?subscription-key={API_KEY}'\n",
    "    r = requests.get(url)\n",
    "\n",
    "    # print a short confirmation on completion\n",
    "    print('Augment API query complete ', r.status_code)\n",
    "    \n",
    "    json = map(force_orcid, r.json()[0]['relationships']['researcher-researcher'])\n",
    "    ef = pd.DataFrame(json, columns=['from', 'to'])\n",
    "    ef = ef[ef['from'].isin(rf['orcid'].to_list())]\n",
    "    G.add_edges_from(ef.to_numpy())"
   ]
  },
  {
   "cell_type": "code",
   "execution_count": null,
   "id": "98a8923b-0c06-47b7-86ad-0f34721190df",
   "metadata": {},
   "outputs": [],
   "source": [
    "for index, row in rf.iterrows():\n",
    "    G.add_node(row['orcid'], name=row['full_name'], color='#54C48C')\n",
    "\n",
    "json = map(force_orcid, r.json()[0]['relationships']['researcher-researcher'])\n",
    "ef = pd.DataFrame(json, columns=['from', 'to'])\n",
    "G.add_edges_from(ef.to_numpy())\n",
    "\n",
    "# Compute positions\n",
    "pos = nx.spring_layout(G)\n",
    "\n",
    "options = {\n",
    "    \"font_size\": 12,\n",
    "    \"node_size\": 50,\n",
    "    \"edge_color\": \"lightgray\",\n",
    "    \"node_color\": \"#54C48C\",\n",
    "    \"linewidths\": 0.1,\n",
    "    \"width\": 1\n",
    "}\n",
    "\n",
    "# Show information about the graph\n",
    "print(nx.info(G))\n",
    "print(\"Network density:\", nx.density(G))\n",
    "\n",
    "# export graph to a gephi file\n",
    "nx.write_gexf(G, \"co-authors.gexf\")\n",
    "\n",
    "# Draw the graph using altair\n",
    "viz = nxa.draw_networkx(G, pos=pos, node_tooltip='name', **options).properties(width=800, height=800)\n",
    "viz.interactive()"
   ]
  }
 ],
 "metadata": {
  "kernelspec": {
   "display_name": "Python 3",
   "language": "python",
   "name": "python3"
  },
  "language_info": {
   "codemirror_mode": {
    "name": "ipython",
    "version": 3
   },
   "file_extension": ".py",
   "mimetype": "text/x-python",
   "name": "python",
   "nbconvert_exporter": "python",
   "pygments_lexer": "ipython3",
   "version": "3.9.7"
  }
 },
 "nbformat": 4,
 "nbformat_minor": 5
}
