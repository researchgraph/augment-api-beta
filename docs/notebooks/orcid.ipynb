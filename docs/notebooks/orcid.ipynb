{
 "cells": [
  {
   "cell_type": "markdown",
   "id": "94a8c7aa-e33d-4d18-9d3e-6a0739de9d1f",
   "metadata": {},
   "source": [
    "# Query Researchers and Co-author Relationships by ORCID"
   ]
  },
  {
   "cell_type": "markdown",
   "id": "121752b4-5e3f-495a-b76f-8fab3d44b3b5",
   "metadata": {},
   "source": [
    "This notebook demonstrates how to query for researchers' data by passing an ORCID id to the Augment API. There are a lot of ways to process and get insights from the data. Here we give an example of plotting relationship data in a network graph.\n"
   ]
  },
  {
   "cell_type": "markdown",
   "id": "bf3f02b3-a71b-4e37-8d70-ac7c1906844c",
   "metadata": {},
   "source": [
    "[Download Notebook](https://github.com/researchgraph/augment-api-beta/blob/main/docs/notebooks/orcid.ipynb)"
   ]
  },
  {
   "cell_type": "markdown",
   "id": "7b756622",
   "metadata": {},
   "source": [
    "Related Notebooks:  \n",
    "- [Publications Notebook](./publications.ipynb)   \n",
    "Extract a publications list for a researcher in Bibtex Format. Visualise publication counts with a bar plot and generate a keyword word-cloud.  \n",
    "- [DOI Notebook](./doi.ipynb)  \n",
    "Query publications data by passing a DOI to the API.   \n",
    "- [Affiliations Notebook](./affiliations.ipynb)  \n",
    "Query researchers and affiliations by passing an ORCID to the API. Extract the geolocation data and map affiliations data on a world map. Plot researcher-organisation relationships in a graph.\n",
    "\n",
    "\n"
   ]
  },
  {
   "cell_type": "code",
   "execution_count": null,
   "id": "585706d4-6da5-47cf-bcba-d1b4f8238718",
   "metadata": {},
   "outputs": [],
   "source": [
    "import sys\n",
    "sys.path.append('../')\n",
    "\n",
    "# packages to read API_KEY\n",
    "import os\n",
    "from os.path import join, dirname\n",
    "from dotenv import load_dotenv\n",
    "load_dotenv();\n",
    "\n",
    "# Packages to use API\n",
    "import requests\n",
    "import json\n",
    "\n",
    "# Packages for data manipulation\n",
    "import pandas as pd\n",
    "from datetime import datetime, date\n",
    "\n",
    "# Packages for chart plotting\n",
    "import numpy as np\n",
    "import matplotlib.pyplot as plt\n",
    "%matplotlib inline\n",
    "\n",
    "# Packages for graph plotting\n",
    "import ast\n",
    "import altair as alt\n",
    "import networkx as nx\n",
    "import nx_altair as nxa\n"
   ]
  },
  {
   "cell_type": "markdown",
   "id": "fa024f78-572d-49ba-8317-ac4aefb5f717",
   "metadata": {},
   "source": [
    "## API Errors  \n",
    "When using the API, we load API_KEY and ORCID ID you want to search into variables and add them in the url string. Later the python request package will pass those values to the API and get the data you want. This section shows the 2 types of common errors you might get when using augment API. Either the ORCID id passed is invalid or the API_KEY is not load successfully from you environment file.\n",
    "### ORCID ID Not Found  \n",
    "Here we assign an invalid value to the ORCID variable. When error occurs, the request.get( ) will be an object with the status code indicating what type error it is with an error message for explanation."
   ]
  },
  {
   "cell_type": "code",
   "execution_count": null,
   "id": "934b30e7-c989-4ff5-af8e-eba3102498e2",
   "metadata": {},
   "outputs": [],
   "source": [
    "# pass an invalid ORCID \n",
    "API_KEY = os.environ.get(\"API_KEY\")\n",
    "ORCID = \"0000-0003-XXXX-XXXX\"\n",
    "\n",
    "url = f'https://augmentapi.researchgraph.com/v1/orcid/{ORCID}?subscription-key={API_KEY}'\n",
    "r = requests.get(url)\n",
    "\n",
    "# print a short confirmation on completion\n",
    "print('Augment API query complete ', r.status_code)\n",
    "\n",
    "if r.status_code == 400:\n",
    "    print(r.json()[0][\"error\"])"
   ]
  },
  {
   "cell_type": "markdown",
   "id": "cf03a629-01aa-4f1d-9a54-68bf763348a7",
   "metadata": {},
   "source": [
    "### Missing API_KEY  \n",
    "You will receive an authentication error if the API KEY is invalid."
   ]
  },
  {
   "cell_type": "code",
   "execution_count": null,
   "id": "e8ae51de-7b7e-4a1d-a671-1eb854299768",
   "metadata": {},
   "outputs": [],
   "source": [
    "# Missing API_KEY\n",
    "API_KEY = ''\n",
    "ORCID = \"0000-0002-0068-716X\"\n",
    "\n",
    "url = f'https://augmentapi.researchgraph.com/v1/orcid/{ORCID}?subscription-key={API_KEY}'\n",
    "r = requests.get(url)\n",
    "\n",
    "# print a short confirmation on completion\n",
    "print('Augment API query complete ', r.status_code)\n",
    "\n",
    "if r.status_code == 401:\n",
    "    print(f'Authentication error.',r.json()['message'])"
   ]
  },
  {
   "cell_type": "markdown",
   "id": "313b28aa-68dc-4fd6-a314-2c3e0823c52c",
   "metadata": {},
   "source": [
    "## Data Extraction for Valid ORCID ID  \n",
    "For valid ORCID records retrieved, it is a nested dictionary structure with all data that is connected to the ORCID requested. First level has 3 keys as shown in the block below."
   ]
  },
  {
   "cell_type": "code",
   "execution_count": null,
   "id": "463a2da2",
   "metadata": {},
   "outputs": [],
   "source": [
    "# ORCID ID does exist\n",
    "API_KEY = os.environ.get(\"API_KEY\")\n",
    "ORCID = \"0000-0002-0068-716X\"\n",
    "\n",
    "url = f'https://augmentapi.researchgraph.com/v1/orcid/{ORCID}?subscription-key={API_KEY}'\n",
    "r = requests.get(url)\n",
    "\n",
    "# print a short confirmation on completion\n",
    "print('Augment API query complete ', r.status_code)\n",
    "\n",
    "# Shows data \n",
    "print('The data returned has below fields: ',r.json()[0].keys())"
   ]
  },
  {
   "cell_type": "markdown",
   "id": "9740f485",
   "metadata": {},
   "source": [
    "In 'nodes', data is stored in 5 labels from the ResearchGraph schema:"
   ]
  },
  {
   "cell_type": "code",
   "execution_count": null,
   "id": "94f27283",
   "metadata": {},
   "outputs": [],
   "source": [
    "r.json()[0][\"nodes\"].keys()"
   ]
  },
  {
   "cell_type": "markdown",
   "id": "21e4d831",
   "metadata": {},
   "source": [
    "Each label above is stored as a list of dictionaries. To extract the researcher we need, iterate through the list and check for the ORCID."
   ]
  },
  {
   "cell_type": "code",
   "execution_count": null,
   "id": "968a1d7c-c696-4e3d-90d9-d77b9d0f2a3d",
   "metadata": {},
   "outputs": [],
   "source": [
    "# Extract Researcher information\n",
    "if r.status_code == 200 and r.json()[0][\"nodes\"][\"researchers\"]:    \n",
    "    researchers = r.json()[0][\"nodes\"][\"researchers\"]\n",
    "    \n",
    "    researcher = None\n",
    "    for i in range(len(researchers)):\n",
    "        if researchers[i][\"orcid\"] == ORCID:\n",
    "            researcher = researchers[i]\n",
    "\n",
    "    print()\n",
    "    print(f'ORCID: {researcher[\"orcid\"]}')\n",
    "    print(f'First name: {researcher[\"first_name\"]}')\n",
    "    print(f'Last name: {researcher[\"last_name\"]}')\n",
    "    print()\n",
    "    print(f'The researcher {researcher[\"full_name\"]} is connected to {r.json()[0][\"stats\"]}.')"
   ]
  },
  {
   "cell_type": "markdown",
   "id": "a79228e4-272a-43bd-b6e3-941b35012f9a",
   "metadata": {},
   "source": [
    "### List of co-authors\n",
    "The researchers in the list has the ORCID we queried and other researchers connected to it. Note this only includes researchers who has an ORCID."
   ]
  },
  {
   "cell_type": "code",
   "execution_count": null,
   "id": "85add633-3a43-451a-ad67-31264b599154",
   "metadata": {},
   "outputs": [],
   "source": [
    "rf = pd.DataFrame(r.json()[0][\"nodes\"][\"researchers\"], columns=['first_name', 'last_name', 'full_name', 'orcid'])\n",
    "dfStyler = rf.style.set_properties(**{'text-align': 'left'})\n",
    "dfStyler.set_table_styles([dict(selector='th', props=[('text-align', 'left')])])"
   ]
  },
  {
   "cell_type": "markdown",
   "id": "07a1f4ba",
   "metadata": {},
   "source": [
    "### Co-author Relationship\n",
    "Now we can visualise co-authors relationships with our target researcher by extracting data in relationships list. However, the relationship keys needs some formatting to get ORCID. Some relationship examples are shown below."
   ]
  },
  {
   "cell_type": "code",
   "execution_count": null,
   "id": "164359e9",
   "metadata": {},
   "outputs": [],
   "source": [
    "r.json()[0]['relationships']['researcher-researcher'][:5]"
   ]
  },
  {
   "cell_type": "code",
   "execution_count": null,
   "id": "174fbc85",
   "metadata": {},
   "outputs": [],
   "source": [
    "# Format keys from relationship list to ORCID IDs (to map the node labels)\n",
    "def force_orcid(n):\n",
    "    n['from'] = n['from'].split('/')[-1]\n",
    "    n['to'] = n['to'].split('/')[-1]\n",
    "    return n"
   ]
  },
  {
   "cell_type": "markdown",
   "id": "d07562de",
   "metadata": {},
   "source": [
    " Note the requested researcher is the 'from' node. These are the connections between the requested researcher and other researchers, we now add these connections to the graph."
   ]
  },
  {
   "cell_type": "code",
   "execution_count": null,
   "id": "0719ff5e",
   "metadata": {},
   "outputs": [],
   "source": [
    "# Generate a graph from the co-authors\n",
    "G = nx.Graph()\n",
    "\n",
    "# add co-author researcher nodes to the graph\n",
    "for index, row in rf.iterrows():\n",
    "    G.add_node(row['orcid'], name=row['full_name'], color='#54C48C')\n",
    "# format the relationship data\n",
    "json = map(force_orcid, r.json()[0]['relationships']['researcher-researcher'])\n",
    "ef = pd.DataFrame(json, columns=['from', 'to'])\n",
    "\n",
    "#     add them into graph as edges\n",
    "G.add_edges_from(ef.to_numpy())"
   ]
  },
  {
   "cell_type": "markdown",
   "id": "9e543f47",
   "metadata": {},
   "source": [
    "Show current graph:"
   ]
  },
  {
   "cell_type": "code",
   "execution_count": null,
   "id": "483dc9f6",
   "metadata": {},
   "outputs": [],
   "source": [
    "# Compute positions\n",
    "pos = nx.spring_layout(G)\n",
    "\n",
    "options = {\n",
    "    \"font_size\": 12,\n",
    "    \"node_size\": 50,\n",
    "    \"edge_color\": \"lightgray\",\n",
    "    \"node_color\": \"#54C48C\",\n",
    "    \"linewidths\": 0.1,\n",
    "    \"width\": 1\n",
    "}\n",
    "\n",
    "# Show information about the graph\n",
    "print(nx.info(G))\n",
    "print(\"Network density:\", nx.density(G))\n",
    "\n",
    "# Disable maximum row check for big dataset\n",
    "alt.data_transformers.disable_max_rows()\n",
    "\n",
    "# Draw the graph using altair\n",
    "viz = nxa.draw_networkx(G, pos=pos, node_tooltip='name', **options).properties(width=800, height=800)\n",
    "viz.interactive()"
   ]
  },
  {
   "cell_type": "markdown",
   "id": "66306093",
   "metadata": {},
   "source": [
    "Now we have a connection graph where the requested researcher is the center. But what about the connections between co-authors? If we want to learn more about the connections, we can repeat the process above for the list of co-authors and get researcher relationships for each of them."
   ]
  },
  {
   "cell_type": "code",
   "execution_count": null,
   "id": "ccfcb066-495d-4015-81b8-3066bf743bb0",
   "metadata": {},
   "outputs": [],
   "source": [
    "API_KEY = os.environ.get(\"API_KEY\")\n",
    "\n",
    "# Fetch relationships between all co-authors\n",
    "# This may take a while depending on the number of requests\n",
    "for a in rf['orcid']:\n",
    "    url = f'https://augmentapi.researchgraph.com/v1/orcid/{a}?subscription-key={API_KEY}'\n",
    "    r = requests.get(url)\n",
    "\n",
    "    # print a short confirmation on completion\n",
    "    print('Augment API query complete ', r.status_code)\n",
    "    \n",
    "    json = map(force_orcid, r.json()[0]['relationships']['researcher-researcher'])\n",
    "    ef = pd.DataFrame(json, columns=['from', 'to'])\n",
    "    \n",
    "#     filter the relationship by start node in co-auther list\n",
    "    ef = ef[ef['from'].isin(rf['orcid'].to_list())]\n",
    "#     add them into graph as edges\n",
    "    G.add_edges_from(ef.to_numpy())"
   ]
  },
  {
   "cell_type": "markdown",
   "id": "812116d1",
   "metadata": {},
   "source": [
    "Finally we show the graph and store it as gexf file."
   ]
  },
  {
   "cell_type": "code",
   "execution_count": null,
   "id": "98a8923b-0c06-47b7-86ad-0f34721190df",
   "metadata": {},
   "outputs": [],
   "source": [
    "# Compute positions\n",
    "pos = nx.spring_layout(G)\n",
    "\n",
    "options = {\n",
    "    \"font_size\": 12,\n",
    "    \"node_size\": 50,\n",
    "    \"edge_color\": \"lightgray\",\n",
    "    \"node_color\": \"#54C48C\",\n",
    "    \"linewidths\": 0.1,\n",
    "    \"width\": 1\n",
    "}\n",
    "\n",
    "# Show information about the graph\n",
    "print(nx.info(G))\n",
    "print(\"Network density:\", nx.density(G))\n",
    "\n",
    "# Disable maximum row check for big dataset\n",
    "alt.data_transformers.disable_max_rows()\n",
    "\n",
    "# export graph to a gephi file\n",
    "nx.write_gexf(G, \"co-authors.gexf\")\n",
    "\n",
    "# Draw the graph using altair\n",
    "viz = nxa.draw_networkx(G, pos=pos, node_tooltip='name', **options).properties(width=800, height=800)\n",
    "viz.interactive()"
   ]
  },
  {
   "cell_type": "code",
   "execution_count": null,
   "id": "35dc51d5-b053-4676-80a7-7e189076a7a9",
   "metadata": {},
   "outputs": [],
   "source": []
  }
 ],
 "metadata": {
  "kernelspec": {
   "display_name": "Python 3 (ipykernel)",
   "language": "python",
   "name": "python3"
  },
  "language_info": {
   "codemirror_mode": {
    "name": "ipython",
    "version": 3
   },
   "file_extension": ".py",
   "mimetype": "text/x-python",
   "name": "python",
   "nbconvert_exporter": "python",
   "pygments_lexer": "ipython3",
   "version": "3.7.4"
  }
 },
 "nbformat": 4,
 "nbformat_minor": 5
}
