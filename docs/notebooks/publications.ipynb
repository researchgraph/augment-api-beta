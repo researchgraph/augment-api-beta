{
 "cells": [
  {
   "cell_type": "markdown",
   "id": "121752b4-5e3f-495a-b76f-8fab3d44b3b5",
   "metadata": {},
   "source": [
    "Fetch information about a specific person identified by his/her ORCID ID, and handle API errors."
   ]
  },
  {
   "cell_type": "markdown",
   "id": "5aed5431-0b25-4b4e-9bcb-7b733ea222c2",
   "metadata": {},
   "source": [
    "[Download Notebook](https://github.com/researchgraph/augment-api-beta/blob/main/docs/notebooks/publications.ipynb)"
   ]
  },
  {
   "cell_type": "code",
   "execution_count": 9,
   "id": "c9aff948-62d9-43a5-a7b7-c0da8541c791",
   "metadata": {},
   "outputs": [],
   "source": [
    "import sys\n",
    "sys.path.append('../')\n",
    "\n",
    "# !{sys.executable} -m pip install wordcloud\n",
    "\n",
    "import numpy as np\n",
    "import matplotlib.pyplot as plt\n",
    "%matplotlib inline\n",
    "\n",
    "import ast\n",
    "import altair as alt\n",
    "import networkx as nx\n",
    "import nx_altair as nxa\n",
    "from wordcloud import WordCloud, STOPWORDS \n",
    "import pandas as pd\n",
    "from datetime import datetime, date\n",
    "import requests\n",
    "import json\n",
    "\n",
    "import os\n",
    "from os.path import join, dirname\n",
    "from dotenv import load_dotenv\n",
    "load_dotenv();"
   ]
  },
  {
   "cell_type": "markdown",
   "id": "fa024f78-572d-49ba-8317-ac4aefb5f717",
   "metadata": {},
   "source": [
    "### ORCID ID not found"
   ]
  },
  {
   "cell_type": "code",
   "execution_count": 10,
   "id": "934b30e7-c989-4ff5-af8e-eba3102498e2",
   "metadata": {},
   "outputs": [
    {
     "name": "stdout",
     "output_type": "stream",
     "text": [
      "Augment API query complete  400\n",
      "FAILED: Invalid ORCID 0000-0003-XXXX-XXXX\n"
     ]
    }
   ],
   "source": [
    "# ORCID ID not found\n",
    "API_KEY = os.environ.get(\"API_KEY\")\n",
    "ORCID = \"0000-0003-XXXX-XXXX\"\n",
    "\n",
    "url = f'https://api.researchgraph.ai/v1/orcid/{ORCID}?subscription-key={API_KEY}'\n",
    "r = requests.get(url)\n",
    "\n",
    "# print a short confirmation on completion\n",
    "print('Augment API query complete ', r.status_code)\n",
    "\n",
    "if r.status_code == 400:\n",
    "    print(r.json()[\"message\"])"
   ]
  },
  {
   "cell_type": "markdown",
   "id": "cf03a629-01aa-4f1d-9a54-68bf763348a7",
   "metadata": {},
   "source": [
    "### Missing API_KEY"
   ]
  },
  {
   "cell_type": "code",
   "execution_count": 11,
   "id": "e8ae51de-7b7e-4a1d-a671-1eb854299768",
   "metadata": {},
   "outputs": [
    {
     "name": "stdout",
     "output_type": "stream",
     "text": [
      "Augment API query complete  401\n",
      "Authentication error.\n"
     ]
    }
   ],
   "source": [
    "# Missing API_KEY\n",
    "API_KEY = ''\n",
    "ORCID = \"0000-0002-0715-6126\"\n",
    "\n",
    "url = f'https://api.researchgraph.ai/v1/orcid/{ORCID}?subscription-key={API_KEY}'\n",
    "r = requests.get(url)\n",
    "\n",
    "# print a short confirmation on completion\n",
    "print('Augment API query complete ', r.status_code)\n",
    "\n",
    "if r.status_code == 401:\n",
    "    print(f'Authentication error.')"
   ]
  },
  {
   "cell_type": "markdown",
   "id": "313b28aa-68dc-4fd6-a314-2c3e0823c52c",
   "metadata": {},
   "source": [
    "### ORCID ID does exist"
   ]
  },
  {
   "cell_type": "code",
   "execution_count": 12,
   "id": "968a1d7c-c696-4e3d-90d9-d77b9d0f2a3d",
   "metadata": {},
   "outputs": [
    {
     "name": "stdout",
     "output_type": "stream",
     "text": [
      "Augment API query complete  200\n",
      "\n",
      "ORCID: 0000-0002-0068-716X\n",
      "First name: Cameron\n",
      "Last name: Neylon\n",
      "\n",
      "The researcher Cameron Neylon is connected to {'datasets': 18, 'grants': 0, 'organisations': 208, 'publications': 139, 'researchers': 126}.\n"
     ]
    }
   ],
   "source": [
    "# ORCID ID does exist\n",
    "API_KEY = os.environ.get(\"API_KEY\")\n",
    "ORCID = \"0000-0002-0068-716X\"\n",
    "\n",
    "url = f'https://api.researchgraph.ai/v1/orcid/{ORCID}?subscription-key={API_KEY}'\n",
    "r = requests.get(url)\n",
    "\n",
    "# print a short confirmation on completion\n",
    "print('Augment API query complete ', r.status_code)\n",
    "\n",
    "if r.status_code == 200 and r.json()[0][\"nodes\"][\"researchers\"]:    \n",
    "    researchers = r.json()[0][\"nodes\"][\"researchers\"]\n",
    "    \n",
    "    researcher = None\n",
    "    for i in range(len(researchers)):\n",
    "        if researchers[i][\"orcid\"] == ORCID:\n",
    "            researcher = researchers[i]\n",
    "\n",
    "print()\n",
    "print(f'ORCID: {researcher[\"orcid\"]}')\n",
    "print(f'First name: {researcher[\"first_name\"]}')\n",
    "print(f'Last name: {researcher[\"last_name\"]}')\n",
    "print()\n",
    "print(f'The researcher {researcher[\"full_name\"]} is connected to {r.json()[0][\"stats\"]}.')"
   ]
  },
  {
   "cell_type": "markdown",
   "id": "6fac2535-7baf-484e-83b7-23c5875e3f90",
   "metadata": {},
   "source": [
    "### List of publications as bibtex\n",
    "Only includes publications with DOIs, and duplicate versions removed, sorted by publication year in descending order"
   ]
  },
  {
   "cell_type": "code",
   "execution_count": 13,
   "id": "f2337bbf-13a1-4792-9dc8-a3d73ff753f3",
   "metadata": {},
   "outputs": [],
   "source": [
    "# include all publications\n",
    "pd.set_option(\"display.max_rows\", None)\n",
    "\n",
    "df = pd.DataFrame(r.json()[0][\"nodes\"][\"publications\"], columns=['doi', 'publication_year', 'title'])\n",
    "df = df.dropna()\n",
    "df = df.drop_duplicates(subset=['publication_year', 'title'])\n",
    "df = df.sort_values(by=['publication_year','doi'], ascending=False)"
   ]
  },
  {
   "cell_type": "code",
   "execution_count": null,
   "id": "d8e1a9ee-e8c5-477d-a7a0-3a930c0d16c9",
   "metadata": {},
   "outputs": [
    {
     "name": "stdout",
     "output_type": "stream",
     "text": [
      "Crosscite API query for 10.7717/peerj.11391 complete 200\n",
      "Crosscite API query for 10.5281/zenodo.4893802 complete 200\n",
      "Crosscite API query for 10.5281/zenodo.4680985 complete 200\n",
      "Crosscite API query for 10.5281/zenodo.4663353 complete 200\n",
      "Crosscite API query for 10.1007/978-3-030-71305-8_36 complete 200\n",
      "Crosscite API query for 10.7554/elife.57067 complete 200\n",
      "Crosscite API query for 10.6084/m9.figshare.13010000.v1 complete 200\n",
      "Crosscite API query for 10.6084/m9.figshare.13010000 complete 200\n",
      "Crosscite API query for 10.5281/zenodo.4040402 complete 200\n",
      "Crosscite API query for 10.5281/zenodo.3620964 complete 200\n",
      "Crosscite API query for 10.4000/proceedings.elpub.2020.20 complete 200\n",
      "Crosscite API query for 10.4000/proceedings.elpub.2020.18 complete 200\n",
      "Crosscite API query for 10.1201/9780429324383-2 complete 200\n",
      "Crosscite API query for 10.1186/s41073-020-00099-8 complete 200\n",
      "Crosscite API query for 10.1162/qss_a_00052 complete 200\n",
      "Crosscite API query for 10.1162/qss_a_00031 complete 200\n",
      "Crosscite API query for 10.1101/2020.03.19.998542 complete 200\n",
      "Crosscite API query for 10.6084/m9.figshare.8845247.v1 complete 200\n",
      "Crosscite API query for 10.6084/m9.figshare.8312831 complete 200\n",
      "Crosscite API query for 10.5281/zenodo.2554893 complete 200\n",
      "Crosscite API query for 10.5281/zenodo.2551448 complete 200\n",
      "Crosscite API query for 10.1101/750075 complete 200\n",
      "Crosscite API query for 10.1002/leap.1228 complete 200\n",
      "Crosscite API query for 10.5281/zenodo.3524662 complete 200\n",
      "Crosscite API query for 10.5281/zenodo.1465401 complete 200\n",
      "Crosscite API query for 10.5281/zenodo.1447221 complete 200\n",
      "Crosscite API query for 10.5281/zenodo.1230342 complete 200\n",
      "Crosscite API query for 10.21428/99f89a34 complete 200\n",
      "Crosscite API query for 10.1629/uksg.404 complete 200\n",
      "Crosscite API query for 10.1002/leap.1168 complete 200\n",
      "Crosscite API query for 10.5334/kula.7 complete 200\n",
      "Crosscite API query for 10.4171/news/103/9 complete 200\n",
      "Crosscite API query for 10.3897/rio.3.e21773 complete 200\n",
      "Crosscite API query for 10.3897/rio.3.e21705 complete 200\n",
      "Crosscite API query for 10.3897/rio.3.e21704 complete 200\n",
      "Crosscite API query for 10.3897/rio.3.e21703 complete 200\n",
      "Crosscite API query for 10.3897/rio.3.e21702 complete 200\n",
      "Crosscite API query for 10.3897/rio.3.e21701 complete 200\n",
      "Crosscite API query for 10.3897/rio.3.e21700 complete 200\n",
      "Crosscite API query for 10.3897/rio.3.e21699 complete 200\n",
      "Crosscite API query for 10.3897/rio.3.e21698 complete 200\n",
      "Crosscite API query for 10.3897/rio.3.e14672 complete 200\n",
      "Crosscite API query for 10.3233/isu-170824 complete 200\n",
      "Crosscite API query for 10.12688/f1000research.12037.2 complete 200\n",
      "Crosscite API query for 10.12688/f1000research.11408.1 complete 200\n",
      "Crosscite API query for 10.1101/116756 complete 200\n",
      "Crosscite API query for 10.1080/08109028.2017.1386949 complete 200\n",
      "Crosscite API query for 10.1057/palcomms.2017.10 complete 200\n",
      "Crosscite API query for 10.1057/palcomms.2016.105 complete 200\n",
      "Crosscite API query for 10.6084/m9.figshare.4042530.v2 complete 200\n",
      "Crosscite API query for 10.6084/m9.figshare.3413821.v1 complete 200\n",
      "Crosscite API query for 10.3897/rio.2.e8880 complete 200\n",
      "Crosscite API query for 10.1101/092817 complete 200\n",
      "Crosscite API query for 10.1098/rsnr.2016.0032 complete 200\n",
      "Crosscite API query for 10.5281/zenodo.16271 complete 200\n",
      "Crosscite API query for 10.6084/m9.figshare.964812.v3 complete 200\n",
      "Crosscite API query for 10.6084/m9.figshare.964812.v1 complete 200\n",
      "Crosscite API query for 10.4033/iee.2014.7.7.f complete 200\n",
      "Crosscite API query for 10.3789/isqv26no2.2014.07 complete 200\n",
      "Crosscite API query for 10.6084/m9.figshare.660301.v1 complete 200\n",
      "Crosscite API query for 10.6084/m9.figshare.660298.v1 complete 200\n",
      "Crosscite API query for 10.6084/m9.figshare.650799.v1 complete 200\n",
      "Crosscite API query for 10.6084/m9.figshare.650794.v1 complete 200\n",
      "Crosscite API query for 10.6084/m9.figshare.650793.v1 complete 200\n",
      "Crosscite API query for 10.6084/m9.figshare.644431.v1 complete 200\n",
      "Crosscite API query for 10.6084/m9.figshare.644430 complete 200\n",
      "Crosscite API query for 10.17863/cam.44022 complete 200\n",
      "Crosscite API query for 10.1371/journal.pone.0067460 complete 200\n",
      "Crosscite API query for 10.1371/journal.pbio.1001691 complete 200\n",
      "Crosscite API query for 10.1371/journal.pbio.1001677 complete 200\n",
      "Crosscite API query for 10.1021/jf401336a complete 200\n",
      "Crosscite API query for 10.1007/s12154-012-0090-1 complete 200\n",
      "Crosscite API query for 10.1371/journal.pbio.1001417 complete 200\n",
      "Crosscite API query for 10.1186/1751-0473-7-2 complete 200\n",
      "Crosscite API query for 10.1109/escience.2012.6404478 complete 200\n",
      "Crosscite API query for 10.1080/00438243.2012.737581 complete 200\n",
      "Crosscite API query for 10.1039/c2cp42029e complete 200\n",
      "Crosscite API query for 10.1038/492348a complete 200\n",
      "Crosscite API query for 10.1007/978-1-62703-275-9_7 complete 200\n",
      "Crosscite API query for 10.1629/2421 complete 200\n",
      "Crosscite API query for 10.1186/1758-2946-3-35 complete 200\n",
      "Crosscite API query for 10.1186/1756-0500-4-138 complete 200\n",
      "Crosscite API query for 10.1080/10448632.2011.569278 complete 200\n",
      "Crosscite API query for 10.1039/c1sm05603d complete 200\n",
      "Crosscite API query for 10.1039/c1ob90070f complete 200\n",
      "Crosscite API query for 10.1039/c1cp21799b complete 200\n",
      "Crosscite API query for 10.1039/c0ob00535e complete 200\n",
      "Crosscite API query for 10.1039/c0cp02247k complete 200\n",
      "Crosscite API query for 10.1021/ac102762q complete 200\n",
      "Crosscite API query for 10.1016/s0262-4079(11)62148-9 complete 200\n",
      "Crosscite API query for 10.1002/9781118026038.ch28 complete 200\n",
      "Crosscite API query for 10.1002/9781118026038.ch25 complete 200\n",
      "Crosscite API query for 10.1371/journal.pbio.1000242 complete 200\n",
      "Crosscite API query for 10.1186/1759-4499-1-3 complete 200\n",
      "Crosscite API query for 10.1109/e-science.2009.32 complete 200\n",
      "Crosscite API query for 10.1038/nphys1371 complete 200\n",
      "Crosscite API query for 10.1038/461881a complete 200\n",
      "Crosscite API query for 10.1038/459641b complete 200\n",
      "Crosscite API query for 10.1016/s1369-7021(09)70234-2 complete 200\n",
      "Crosscite API query for 10.1371/journal.pone.0002500 complete 200\n",
      "Crosscite API query for 10.1142/9789812836939_0051 complete 200\n"
     ]
    }
   ],
   "source": [
    "data = []\n",
    "for index, row in df.iterrows():\n",
    "    url = f'https://data.crosscite.org/application/x-bibtex/{row[\"doi\"]}'\n",
    "    ra = requests.get(url)\n",
    "    print(f'Crosscite API query for {row[\"doi\"]} complete', ra.status_code)\n",
    "    data.append(ra.text)\n",
    "\n",
    "bib = '\\n'.join(data)\n",
    "with open(researcher['last_name'].lower() + '_publications.bib', 'a') as fp:\n",
    "    fp.write(bib)"
   ]
  },
  {
   "cell_type": "markdown",
   "id": "ab86433c-4239-4588-831d-3968d45857ab",
   "metadata": {},
   "source": [
    "### Publications by year\n",
    "\n",
    "Also handling years without any publications. Using the ResearchGraph color for publications."
   ]
  },
  {
   "cell_type": "code",
   "execution_count": null,
   "id": "ded93450-09a8-4ec1-a921-793e98609fc3",
   "metadata": {},
   "outputs": [],
   "source": [
    "plot_title = alt.TitleParams(f'{researcher[\"full_name\"]} (ORCID {ORCID})', subtitle=['Publications by Year'])\n",
    "alt.Chart(df, title=plot_title).mark_bar(color='#49B1F4').properties(width=500).encode(\n",
    "    x=alt.X(\"publication_year:O\", axis=alt.Axis(title='Publication Year', labelAngle=0, labelSeparation=10)),\n",
    "    y=alt.Y(\"count:Q\", impute=alt.ImputeParams(value=0, keyvals={\"start\": int(min(df['publication_year'].tolist())), \"stop\": datetime.now().year }), axis=alt.Axis(title=None))\n",
    ").transform_aggregate(\n",
    "    count='count(publication_year)',\n",
    "    groupby=[\"publication_year\"]\n",
    ").configure_title(\n",
    "    fontSize=18\n",
    ").configure_axis(\n",
    "    grid=False\n",
    ").configure_view(\n",
    "    strokeWidth=0\n",
    ")"
   ]
  },
  {
   "cell_type": "markdown",
   "id": "77d978e2-f422-471c-ab0f-8073c05c7550",
   "metadata": {},
   "source": [
    "### Topics of publications"
   ]
  },
  {
   "cell_type": "code",
   "execution_count": null,
   "id": "5a40153e-d976-4f6d-8e29-42df7c5dbc53",
   "metadata": {},
   "outputs": [],
   "source": [
    "stopWords = set(STOPWORDS)\n",
    "stopWords.add('_')\n",
    "\n",
    "titleWords=[]\n",
    "for index, row in df.iterrows():\n",
    "    tokens = [t.lower() for t in row['title'].split()]     \n",
    "    titleWords += tokens\n",
    "     \n",
    "x, y = np.ogrid[:800, :800]\n",
    "mask = (x - 400) ** 2 + (y - 400) ** 2 > 345 ** 2\n",
    "mask = 255 * mask.astype(int)\n",
    "    \n",
    "wordcloud = WordCloud(width = 600, height = 600,\n",
    "            max_words = 100,\n",
    "            background_color ='white', \n",
    "            stopwords = stopWords, \n",
    "            min_font_size = 12, \n",
    "            mask = mask).generate(\" \".join(titleWords))\n",
    "    \n",
    "fig, ax = plt.subplots(1, 1, figsize = (8, 8), facecolor = None)\n",
    "ax.set_title(f'{researcher[\"full_name\"]} (ORCID {researcher[\"orcid\"]}) \\n Word cloud of publication titles', fontsize=18, fontweight=\"semibold\")\n",
    "plt.imshow(wordcloud, interpolation=\"bilinear\") \n",
    "plt.axis(\"off\")\n",
    "plt.tight_layout(pad = 0)\n",
    "plt.show()"
   ]
  }
 ],
 "metadata": {
  "kernelspec": {
   "display_name": "Python 3",
   "language": "python",
   "name": "python3"
  },
  "language_info": {
   "codemirror_mode": {
    "name": "ipython",
    "version": 3
   },
   "file_extension": ".py",
   "mimetype": "text/x-python",
   "name": "python",
   "nbconvert_exporter": "python",
   "pygments_lexer": "ipython3",
   "version": "3.9.7"
  }
 },
 "nbformat": 4,
 "nbformat_minor": 5
}
