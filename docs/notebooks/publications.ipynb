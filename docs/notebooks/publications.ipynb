{
 "cells": [
  {
   "cell_type": "markdown",
   "id": "121752b4-5e3f-495a-b76f-8fab3d44b3b5",
   "metadata": {},
   "source": [
    "# Publications List of A Researcher in Bibtex Format\n",
    "Fetch publications of a specific person identified by ORCID, and export data as a bibtex format file. Visualise publication counts over the years by bar plot and generate a keyword word-cloud from titles."
   ]
  },
  {
   "cell_type": "markdown",
   "id": "5aed5431-0b25-4b4e-9bcb-7b733ea222c2",
   "metadata": {},
   "source": [
    "[Download Notebook](https://github.com/researchgraph/augment-api-beta/blob/main/docs/notebooks/publications.ipynb)"
   ]
  },
  {
   "cell_type": "markdown",
   "id": "79451c7d",
   "metadata": {},
   "source": [
    "Related Notebooks:  \n",
    "- [ORCID Notebook](./orcid.ipynb)   \n",
    "Query for researchers' data by passing an ORCID to the Augment API. Visualise co-author relationships in a graph. \n",
    "- [DOI Notebook](./doi.ipynb)  \n",
    "Query publications data by passing a DOI to the API.   \n",
    "- [Affiliations Notebook](./affiliations.ipynb)  \n",
    "Query researchers and affiliations by passing an ORCID to the API. Extract the geolocation data and map affiliations data on a world map. Plot researcher-organisation relationships in a graph.\n",
    "\n",
    "\n",
    "\n",
    "\n"
   ]
  },
  {
   "cell_type": "code",
   "execution_count": null,
   "id": "c9aff948-62d9-43a5-a7b7-c0da8541c791",
   "metadata": {},
   "outputs": [],
   "source": [
    "import sys\n",
    "sys.path.append('../')\n",
    "\n",
    "# Packages for plotting charts, graphs and wordcloud\n",
    "import numpy as np\n",
    "import matplotlib.pyplot as plt\n",
    "%matplotlib inline\n",
    "from wordcloud import WordCloud, STOPWORDS \n",
    "\n",
    "# Packages for data manipulation\n",
    "import pandas as pd\n",
    "from datetime import datetime, date\n",
    "\n",
    "# Packages to use API\n",
    "import requests\n",
    "import json\n",
    "\n",
    "# packages to read API_KEY\n",
    "import os\n",
    "from os.path import join, dirname\n",
    "from dotenv import load_dotenv\n",
    "load_dotenv();"
   ]
  },
  {
   "cell_type": "markdown",
   "id": "fa024f78-572d-49ba-8317-ac4aefb5f717",
   "metadata": {},
   "source": [
    "## API Errors  \n",
    "When using the API, we load the API_KEY and the ORCID you want to search into variables and add them in the url string. Later the python request package will pass those values to the API and get the data you want. This section shows the 2 types of common errors you might get when using augment API. Either the ORCID passed is invalid or the API_KEY is not load successfully from you environment file.\n",
    "### ORCID ID Not Found  \n",
    "Here we assign an invalid value to the ORCID variable. When error occurs, the request.get( ) will be an object with the status code indicating error type and an error message."
   ]
  },
  {
   "cell_type": "code",
   "execution_count": null,
   "id": "934b30e7-c989-4ff5-af8e-eba3102498e2",
   "metadata": {},
   "outputs": [],
   "source": [
    "# ORCID ID not found\n",
    "API_KEY = os.environ.get(\"API_KEY\")\n",
    "ORCID = \"0000-0003-XXXX-XXXX\"\n",
    "\n",
    "url = f'https://augmentapi.researchgraph.com/v1/orcid/{ORCID}?subscription-key={API_KEY}'\n",
    "r = requests.get(url)\n",
    "\n",
    "# print a short confirmation on completion\n",
    "print('Augment API query complete ', r.status_code)\n",
    "\n",
    "if r.status_code == 400:\n",
    "    print(r.json()[0][\"error\"])"
   ]
  },
  {
   "cell_type": "markdown",
   "id": "cf03a629-01aa-4f1d-9a54-68bf763348a7",
   "metadata": {},
   "source": [
    "### Missing API_KEY  \n",
    "You will receive an authentication error if the API KEY is invalid."
   ]
  },
  {
   "cell_type": "code",
   "execution_count": null,
   "id": "e8ae51de-7b7e-4a1d-a671-1eb854299768",
   "metadata": {},
   "outputs": [],
   "source": [
    "# Missing API_KEY\n",
    "API_KEY = ''\n",
    "ORCID = \"0000-0002-0715-6126\"\n",
    "\n",
    "url = f'https://augmentapi.researchgraph.com/v1/orcid/{ORCID}?subscription-key={API_KEY}'\n",
    "r = requests.get(url)\n",
    "\n",
    "# print a short confirmation on completion\n",
    "print('Augment API query complete ', r.status_code)\n",
    "\n",
    "if r.status_code == 401:\n",
    "    print(f'Authentication error.', r.json()['message'])"
   ]
  },
  {
   "cell_type": "markdown",
   "id": "313b28aa-68dc-4fd6-a314-2c3e0823c52c",
   "metadata": {},
   "source": [
    "## Data Extraction for Valid ORCID ID  \n",
    "For valid ORCID records retrieved, it is a nested dictionary structure with all data that is connected to the ORCID requested. First level has 3 keys as shown in the block below."
   ]
  },
  {
   "cell_type": "code",
   "execution_count": null,
   "id": "21ab8b74",
   "metadata": {},
   "outputs": [],
   "source": [
    "# ORCID ID does exist\n",
    "API_KEY = os.environ.get(\"API_KEY\")\n",
    "ORCID = \"0000-0002-0068-716X\"\n",
    "\n",
    "url = f'https://augmentapi.researchgraph.com/v1/orcid/{ORCID}?subscription-key={API_KEY}'\n",
    "r = requests.get(url)\n",
    "\n",
    "# print a short confirmation on completion\n",
    "print('Augment API query complete ', r.status_code)\n",
    "\n",
    "# Shows data \n",
    "print('The data returned has below fields: ',r.json()[0].keys())"
   ]
  },
  {
   "cell_type": "markdown",
   "id": "15c61675",
   "metadata": {},
   "source": [
    "In 'nodes', data is stored in 5 labels from the ResearchGraph schema:"
   ]
  },
  {
   "cell_type": "code",
   "execution_count": null,
   "id": "81c4f4d2",
   "metadata": {},
   "outputs": [],
   "source": [
    "r.json()[0][\"nodes\"].keys()"
   ]
  },
  {
   "cell_type": "markdown",
   "id": "bd06f96e",
   "metadata": {},
   "source": [
    "Each data above is stored as a list of dictionaries. To extract the data we need, iterate through the list and check for the ORCID."
   ]
  },
  {
   "cell_type": "code",
   "execution_count": null,
   "id": "968a1d7c-c696-4e3d-90d9-d77b9d0f2a3d",
   "metadata": {},
   "outputs": [],
   "source": [
    "# ORCID ID does exist\n",
    "API_KEY = os.environ.get(\"API_KEY\")\n",
    "ORCID = \"0000-0002-0068-716X\"\n",
    "\n",
    "url = f'https://augmentapi.researchgraph.com/v1/orcid/{ORCID}?subscription-key={API_KEY}'\n",
    "r = requests.get(url)\n",
    "\n",
    "# print a short confirmation on completion\n",
    "print('Augment API query complete ', r.status_code)\n",
    "\n",
    "if r.status_code == 200 and r.json()[0][\"nodes\"][\"researchers\"]:    \n",
    "    researchers = r.json()[0][\"nodes\"][\"researchers\"]\n",
    "    \n",
    "    researcher = None\n",
    "    for i in range(len(researchers)):\n",
    "        if researchers[i][\"orcid\"] == ORCID:\n",
    "            researcher = researchers[i]\n",
    "\n",
    "print()\n",
    "print(f'ORCID: {researcher[\"orcid\"]}')\n",
    "print(f'First name: {researcher[\"first_name\"]}')\n",
    "print(f'Last name: {researcher[\"last_name\"]}')\n",
    "print()\n",
    "print(f'The researcher {researcher[\"full_name\"]} is connected to {r.json()[0][\"stats\"]}.')"
   ]
  },
  {
   "cell_type": "markdown",
   "id": "6fac2535-7baf-484e-83b7-23c5875e3f90",
   "metadata": {},
   "source": [
    "### List of publications as bibtex\n",
    "In this section, we will use another API from Crossref to query the bibtex format for publications, and export them to a file.\n"
   ]
  },
  {
   "cell_type": "code",
   "execution_count": null,
   "id": "f2337bbf-13a1-4792-9dc8-a3d73ff753f3",
   "metadata": {},
   "outputs": [],
   "source": [
    "# include all publications\n",
    "pd.set_option(\"display.max_rows\", None)\n",
    "\n",
    "df = pd.DataFrame(r.json()[0][\"nodes\"][\"publications\"], columns=['doi', 'publication_year', 'title'])\n",
    "df = df.dropna()\n",
    "df = df.drop_duplicates(subset=['title'])\n",
    "df = df.sort_values(by=['publication_year','doi'], ascending=False)"
   ]
  },
  {
   "cell_type": "markdown",
   "id": "208bcaf0",
   "metadata": {},
   "source": [
    "Similar to our API, we pass the DOI for publications. To specify the text format, we also pass a header in our query. For more information on Crossref API, please see documentation."
   ]
  },
  {
   "cell_type": "code",
   "execution_count": null,
   "id": "95b32712-1bfb-4eed-8f43-3c3a9e0c4b8a",
   "metadata": {},
   "outputs": [],
   "source": [
    "# Use crossref API to get bibtex foramt data for each publication\n",
    "# This may take a few minutes\n",
    "data = []\n",
    "for index, row in df.iterrows():\n",
    "    url = f'http://dx.doi.org/{row[\"doi\"]}'\n",
    "    headers = {'Accept': 'text/bibliography', 'style': 'bibtex'}\n",
    "    ra = requests.get(url, headers=headers)\n",
    "    print(f'Crosscite API query for {row[\"doi\"]} complete', ra.status_code,)\n",
    "    data.append(ra.text)\n",
    "\n",
    "bib = '\\n'.join(data)\n",
    "# Export data into a bib document\n",
    "with open(researcher['last_name'].lower() + '_publications.bib', 'a') as fp:\n",
    "    fp.write(bib)"
   ]
  },
  {
   "cell_type": "markdown",
   "id": "93a54e76",
   "metadata": {},
   "source": [
    "This document will be save in the same directory as this notebook. Now you can navigate to your folders and see the result."
   ]
  },
  {
   "cell_type": "markdown",
   "id": "ab86433c-4239-4588-831d-3968d45857ab",
   "metadata": {},
   "source": [
    "### Publications by year\n",
    "There are lots of ways to use the publication information. This section shows the publication trend by counting the publication records each year. Below code also handling years without any publications and using the ResearchGraph color for bars."
   ]
  },
  {
   "cell_type": "code",
   "execution_count": null,
   "id": "ded93450-09a8-4ec1-a921-793e98609fc3",
   "metadata": {},
   "outputs": [],
   "source": [
    "plot_title = alt.TitleParams(f'{researcher[\"full_name\"]} (ORCID {ORCID})', subtitle=['Publications by Year'])\n",
    "alt.Chart(df, title=plot_title).mark_bar(color='#49B1F4').properties(width=500).encode(\n",
    "    x=alt.X(\"publication_year:O\", axis=alt.Axis(title='Publication Year', labelAngle=0, labelSeparation=10)),\n",
    "    y=alt.Y(\"count:Q\", impute=alt.ImputeParams(value=0, keyvals={\"start\": int(min(df['publication_year'].tolist())), \"stop\": datetime.now().year }), axis=alt.Axis(title=None))\n",
    ").transform_aggregate(\n",
    "    count='count(publication_year)',\n",
    "    groupby=[\"publication_year\"]\n",
    ").configure_title(\n",
    "    fontSize=18\n",
    ").configure_axis(\n",
    "    grid=False\n",
    ").configure_view(\n",
    "    strokeWidth=0\n",
    ")"
   ]
  },
  {
   "cell_type": "markdown",
   "id": "77d978e2-f422-471c-ab0f-8073c05c7550",
   "metadata": {},
   "source": [
    "### Topics of publications  \n",
    "If we want to know the topic by keywords in all publications by this researcher, we can create a word-cloud for the titles too."
   ]
  },
  {
   "cell_type": "code",
   "execution_count": null,
   "id": "5a40153e-d976-4f6d-8e29-42df7c5dbc53",
   "metadata": {},
   "outputs": [],
   "source": [
    "# High frequency meaningless words to be removed, e.g. the, a, of...\n",
    "stopWords = set(STOPWORDS)\n",
    "stopWords.add('_')\n",
    "\n",
    "titleWords=[]\n",
    "for index, row in df.iterrows():\n",
    "    tokens = [t.lower() for t in row['title'].split()]     \n",
    "    titleWords += tokens\n",
    "     \n",
    "x, y = np.ogrid[:800, :800]\n",
    "mask = (x - 400) ** 2 + (y - 400) ** 2 > 345 ** 2\n",
    "mask = 255 * mask.astype(int)\n",
    "    \n",
    "wordcloud = WordCloud(width = 600, height = 600,\n",
    "            max_words = 100,\n",
    "            background_color ='white', \n",
    "            stopwords = stopWords, \n",
    "            min_font_size = 12, \n",
    "            mask = mask).generate(\" \".join(titleWords))\n",
    "    \n",
    "fig, ax = plt.subplots(1, 1, figsize = (8, 8), facecolor = None)\n",
    "ax.set_title(f'{researcher[\"full_name\"]} (ORCID {researcher[\"orcid\"]}) \\n Word cloud of publication titles', fontsize=18, fontweight=\"semibold\")\n",
    "plt.imshow(wordcloud, interpolation=\"bilinear\") \n",
    "plt.axis(\"off\")\n",
    "plt.tight_layout(pad = 0)\n",
    "plt.show()"
   ]
  },
  {
   "cell_type": "code",
   "execution_count": null,
   "id": "b68d88bd-a409-45b7-90b8-3181752b3395",
   "metadata": {},
   "outputs": [],
   "source": []
  }
 ],
 "metadata": {
  "kernelspec": {
   "display_name": "Python 3 (ipykernel)",
   "language": "python",
   "name": "python3"
  },
  "language_info": {
   "codemirror_mode": {
    "name": "ipython",
    "version": 3
   },
   "file_extension": ".py",
   "mimetype": "text/x-python",
   "name": "python",
   "nbconvert_exporter": "python",
   "pygments_lexer": "ipython3",
   "version": "3.7.4"
  }
 },
 "nbformat": 4,
 "nbformat_minor": 5
}
