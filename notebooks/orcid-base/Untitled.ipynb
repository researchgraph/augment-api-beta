{
 "cells": [
  {
   "cell_type": "code",
   "execution_count": null,
   "id": "3945dd4e-b83c-42ce-90f7-ce7d861c7ac0",
   "metadata": {},
   "outputs": [],
   "source": []
  }
 ],
 "metadata": {
  "kernelspec": {
   "display_name": "Python 3",
   "language": "python",
   "name": "python3"
  },
  "language_info": {
   "name": ""
  }
 },
 "nbformat": 4,
 "nbformat_minor": 5
}
