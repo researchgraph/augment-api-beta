#!pip install matplotlib
import operator
import pandas
pandas.set_option('display.max_rows', 100)
