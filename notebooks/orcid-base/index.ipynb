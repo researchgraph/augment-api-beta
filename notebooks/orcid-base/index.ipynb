{
 "cells": [
  {
   "cell_type": "markdown",
   "id": "121752b4-5e3f-495a-b76f-8fab3d44b3b5",
   "metadata": {},
   "source": [
    "## Notebook orcid-base\n",
    "Fetch information about a specific person identified by her ORCID ID."
   ]
  },
  {
   "cell_type": "code",
   "execution_count": 76,
   "id": "c9aff948-62d9-43a5-a7b7-c0da8541c791",
   "metadata": {},
   "outputs": [
    {
     "data": {
      "text/plain": [
       "True"
      ]
     },
     "execution_count": 76,
     "metadata": {},
     "output_type": "execute_result"
    }
   ],
   "source": [
    "import sys\n",
    "sys.path.append('../')\n",
    "\n",
    "import ast\n",
    "import pandas as pd\n",
    "from datetime import datetime, date\n",
    "import requests\n",
    "import json\n",
    "\n",
    "import os\n",
    "from os.path import join, dirname\n",
    "from dotenv import load_dotenv\n",
    "load_dotenv()"
   ]
  },
  {
   "cell_type": "code",
   "execution_count": 77,
   "id": "968a1d7c-c696-4e3d-90d9-d77b9d0f2a3d",
   "metadata": {},
   "outputs": [
    {
     "name": "stdout",
     "output_type": "stream",
     "text": [
      "Augment API query complete  200\n"
     ]
    }
   ],
   "source": [
    "API_KEY = os.environ.get(\"API_KEY\")\n",
    "ORCID = \"0000-0003-1419-2405\"\n",
    "\n",
    "url = f'https://augment.azure-api.net/orcid/{ORCID}?subscription-key={API_KEY}'\n",
    "r = requests.get(url)\n",
    "\n",
    "# print a short confirmation on completion\n",
    "print('Augment API query complete ', r.status_code)\n",
    "\n",
    "if r.status_code in (200, 201):\n",
    "    jsonData = r.json()\n",
    "    # the API response includes these three entities\n",
    "    organisations = jsonData[0][\"nodes\"][\"organisations\"]\n",
    "    publications = jsonData[0][\"nodes\"][\"publications\"]\n",
    "    researchers = jsonData[0][\"nodes\"][\"researchers\"]"
   ]
  },
  {
   "cell_type": "code",
   "execution_count": 78,
   "id": "788a04d3-2894-4164-bc9e-0653bc5af3b5",
   "metadata": {},
   "outputs": [
    {
     "name": "stdout",
     "output_type": "stream",
     "text": [
      "The researcher with ORCID ID 0000-0003-1419-2405 is connected to 298 organisations.\n",
      "The researcher with ORCID ID 0000-0003-1419-2405 is connected to 126 publications.\n",
      "The researcher with ORCID ID 0000-0003-1419-2405 is connected to 129 researchers.\n"
     ]
    }
   ],
   "source": [
    "print(f'The researcher with ORCID ID {ORCID} is connected to {len(organisations)} organisations.')\n",
    "print(f'The researcher with ORCID ID {ORCID} is connected to {len(publications)} publications.')\n",
    "print(f'The researcher with ORCID ID {ORCID} is connected to {len(researchers)} researchers.')"
   ]
  }
 ],
 "metadata": {
  "kernelspec": {
   "display_name": "Python 3",
   "language": "python",
   "name": "python3"
  },
  "language_info": {
   "codemirror_mode": {
    "name": "ipython",
    "version": 3
   },
   "file_extension": ".py",
   "mimetype": "text/x-python",
   "name": "python",
   "nbconvert_exporter": "python",
   "pygments_lexer": "ipython3",
   "version": "3.9.5"
  }
 },
 "nbformat": 4,
 "nbformat_minor": 5
}
